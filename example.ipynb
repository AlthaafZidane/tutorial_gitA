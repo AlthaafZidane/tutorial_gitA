{
 "cells": [
  {
   "cell_type": "code",
   "execution_count": 1,
   "id": "16a4e85e-3125-4dbb-b595-0eebce69fdb2",
   "metadata": {},
   "outputs": [
    {
     "name": "stdout",
     "output_type": "stream",
     "text": [
      "Hello World\n"
     ]
    }
   ],
   "source": [
    "print('Hello World')"
   ]
  },
  {
   "cell_type": "code",
   "execution_count": 1,
   "id": "5c26c204-6a89-41a3-9606-6f7c1d6c4817",
   "metadata": {},
   "outputs": [
    {
     "name": "stdout",
     "output_type": "stream",
     "text": [
      "Codingan Fadli\n"
     ]
    }
   ],
   "source": [
    "print('Codingan Fadli')"
   ]
  },
  {
   "cell_type": "code",
   "execution_count": 1,
   "id": "9bc525a2-14c8-4df4-a352-e1c58507dc28",
   "metadata": {},
   "outputs": [
    {
     "name": "stdout",
     "output_type": "stream",
     "text": [
      "Codingan Daus\n"
     ]
    }
   ],
   "source": [
    "print('Codingan Daus')"
   ]
  },
  {
   "cell_type": "code",
   "execution_count": null,
   "id": "8f76feee-dee2-489d-afd9-848a93b98339",
   "metadata": {},
   "outputs": [],
   "source": []
  }
 ],
 "metadata": {
  "kernelspec": {
   "display_name": "Python 3 (ipykernel)",
   "language": "python",
   "name": "python3"
  },
  "language_info": {
   "codemirror_mode": {
    "name": "ipython",
    "version": 3
   },
   "file_extension": ".py",
   "mimetype": "text/x-python",
   "name": "python",
   "nbconvert_exporter": "python",
   "pygments_lexer": "ipython3",
   "version": "3.10.9"
  }
 },
 "nbformat": 4,
 "nbformat_minor": 5
}
